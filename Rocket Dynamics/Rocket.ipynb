{
 "cells": [
  {
   "cell_type": "code",
   "execution_count": 37,
   "metadata": {},
   "outputs": [],
   "source": [
    "import ConstantesSI\n",
    "from thermo import Chemical"
   ]
  },
  {
   "cell_type": "markdown",
   "metadata": {},
   "source": [
    "# Funciones"
   ]
  },
  {
   "cell_type": "code",
   "execution_count": 38,
   "metadata": {},
   "outputs": [],
   "source": [
    "def propelenteMasaThumb(masaCoheteVacio:int) -> float:\n",
    "    \"\"\"La regla del dedo dice que el 80% de la masa es propelente \"\"\"\n",
    "    masaTotal = masaCoheteVacio*5 # es equivalente a /0.2 que sería el porcentaje, masaTotal es el 100%\n",
    "    masaPropelente = masaTotal*0.8 # El 80% del cohete total\n",
    "    \n",
    "    return masaPropelente"
   ]
  },
  {
   "cell_type": "code",
   "execution_count": null,
   "metadata": {},
   "outputs": [],
   "source": [
    "\n"
   ]
  },
  {
   "cell_type": "markdown",
   "metadata": {},
   "source": [
    "# Cálculos"
   ]
  },
  {
   "cell_type": "code",
   "execution_count": 39,
   "metadata": {},
   "outputs": [
    {
     "name": "stdout",
     "output_type": "stream",
     "text": [
      "Mediante la regla de dedo\n",
      "La masa del propelente es : 12.0 kg\n"
     ]
    }
   ],
   "source": [
    "masaPropelente = propelenteMasaThumb(masaCoheteVacio=ConstantesSI.dryMass)\n",
    "print(f\"Mediante la regla de dedo\\nLa masa del propelente es : {masaPropelente} kg\")"
   ]
  },
  {
   "cell_type": "markdown",
   "metadata": {},
   "source": [
    "### Temperatura adiabatica de flama para propano-aire (25°C) \n",
    "Testeo de libreria thermo"
   ]
  },
  {
   "cell_type": "code",
   "execution_count": 40,
   "metadata": {},
   "outputs": [],
   "source": [
    "# Buscar la Temperatura productos\n",
    "Tr = 298.15 # K\n",
    "Pr = 101325 # Pa\n",
    "c3h8 = Chemical(\"C3H8\")\n",
    "o2 = Chemical(\"O2\")\n",
    "n2 = Chemical(\"N2\")\n",
    "co2 = Chemical(\"CO2\")\n",
    "h2o = Chemical(\"H2O\")\n",
    "molc3h8 = 1\n",
    "molO2 = 5\n",
    "molN2 = 3.76*5\n",
    "molCO2 = 3\n",
    "molH2O = 4"
   ]
  },
  {
   "cell_type": "code",
   "execution_count": 41,
   "metadata": {},
   "outputs": [
    {
     "data": {
      "text/plain": [
       "-104390.0"
      ]
     },
     "execution_count": 41,
     "metadata": {},
     "output_type": "execute_result"
    }
   ],
   "source": [
    "entalpiaC3H8: float = c3h8.Hfm + c3h8.calc_H(Tr,Pr) # \n",
    "entalpiaC3H8"
   ]
  },
  {
   "cell_type": "code",
   "execution_count": 42,
   "metadata": {},
   "outputs": [
    {
     "data": {
      "text/plain": [
       "0.0"
      ]
     },
     "execution_count": 42,
     "metadata": {},
     "output_type": "execute_result"
    }
   ],
   "source": [
    "entalpiaO2: float = o2.Hfm + o2.calc_H(Tr,Pr)\n",
    "entalpiaO2"
   ]
  },
  {
   "cell_type": "code",
   "execution_count": 43,
   "metadata": {},
   "outputs": [
    {
     "data": {
      "text/plain": [
       "0.0"
      ]
     },
     "execution_count": 43,
     "metadata": {},
     "output_type": "execute_result"
    }
   ],
   "source": [
    "entalpiaN2: float = n2.Hfm + n2.calc_H(Tr,Pr)\n",
    "entalpiaN2"
   ]
  },
  {
   "cell_type": "code",
   "execution_count": 44,
   "metadata": {},
   "outputs": [],
   "source": [
    "entalpiaCO2Hf: float= co2.Hfm"
   ]
  },
  {
   "cell_type": "code",
   "execution_count": 53,
   "metadata": {},
   "outputs": [
    {
     "data": {
      "text/plain": [
       "-241822.0"
      ]
     },
     "execution_count": 53,
     "metadata": {},
     "output_type": "execute_result"
    }
   ],
   "source": [
    "entalpiaH2OHf: float = h2o.Hfgm # La g significa que es gaseoso, sino sería liquido\n",
    "entalpiaH2OHf"
   ]
  },
  {
   "cell_type": "code",
   "execution_count": 46,
   "metadata": {},
   "outputs": [
    {
     "data": {
      "text/plain": [
       "0.0"
      ]
     },
     "execution_count": 46,
     "metadata": {},
     "output_type": "execute_result"
    }
   ],
   "source": [
    "co2.calc_H(298.15,Pr)"
   ]
  },
  {
   "cell_type": "code",
   "execution_count": 52,
   "metadata": {},
   "outputs": [
    {
     "data": {
      "text/plain": [
       "2043320.0"
      ]
     },
     "execution_count": 52,
     "metadata": {},
     "output_type": "execute_result"
    }
   ],
   "source": [
    "lhs = molc3h8*entalpiaC3H8+molO2*entalpiaO2+molN2*entalpiaN2-molCO2*entalpiaCO2Hf-molH2O*entalpiaH2OHf-molN2*entalpiaN2\n",
    "lhs"
   ]
  },
  {
   "cell_type": "code",
   "execution_count": 48,
   "metadata": {},
   "outputs": [
    {
     "data": {
      "text/plain": [
       "5845284.483192923"
      ]
     },
     "execution_count": 48,
     "metadata": {},
     "output_type": "execute_result"
    }
   ],
   "source": [
    "molCO2*co2.calc_H(2200,Pr)+molH2O*h2o.calc_H(2200,Pr)+molN2*n2.calc_H(2200,Pr)"
   ]
  },
  {
   "cell_type": "code",
   "execution_count": 49,
   "metadata": {},
   "outputs": [
    {
     "data": {
      "text/plain": [
       "103552.57844466403"
      ]
     },
     "execution_count": 49,
     "metadata": {},
     "output_type": "execute_result"
    }
   ],
   "source": [
    "co2.calc_H(2200,Pr)"
   ]
  },
  {
   "cell_type": "code",
   "execution_count": 50,
   "metadata": {},
   "outputs": [
    {
     "data": {
      "text/plain": [
       "1085835.2230815284"
      ]
     },
     "execution_count": 50,
     "metadata": {},
     "output_type": "execute_result"
    }
   ],
   "source": [
    "h2o.calc_H(2200,Pr)"
   ]
  },
  {
   "cell_type": "code",
   "execution_count": 51,
   "metadata": {},
   "outputs": [
    {
     "data": {
      "text/plain": [
       "-241822.0"
      ]
     },
     "execution_count": 51,
     "metadata": {},
     "output_type": "execute_result"
    }
   ],
   "source": [
    "h2o.Hfgm"
   ]
  },
  {
   "cell_type": "code",
   "execution_count": 55,
   "metadata": {},
   "outputs": [
    {
     "data": {
      "text/plain": [
       "3169.9288945691646"
      ]
     },
     "execution_count": 55,
     "metadata": {},
     "output_type": "execute_result"
    }
   ],
   "source": [
    "pevaporacion = h2o.VaporPressure(Tr)\n",
    "pevaporacion"
   ]
  },
  {
   "cell_type": "code",
   "execution_count": 57,
   "metadata": {},
   "outputs": [
    {
     "data": {
      "text/plain": [
       "<Chemical [water], T=298.15 K, P=3170 Pa>"
      ]
     },
     "execution_count": 57,
     "metadata": {},
     "output_type": "execute_result"
    }
   ],
   "source": [
    "h2o.calculate(Tr, pevaporacion)\n",
    "h2o"
   ]
  },
  {
   "cell_type": "code",
   "execution_count": 64,
   "metadata": {},
   "outputs": [
    {
     "data": {
      "text/plain": [
       "'g'"
      ]
     },
     "execution_count": 64,
     "metadata": {},
     "output_type": "execute_result"
    }
   ],
   "source": [
    "h2o.phase"
   ]
  },
  {
   "cell_type": "code",
   "execution_count": 66,
   "metadata": {},
   "outputs": [
    {
     "data": {
      "text/plain": [
       "<Chemical [water], T=298.15 K, P=3170 Pa>"
      ]
     },
     "execution_count": 66,
     "metadata": {},
     "output_type": "execute_result"
    }
   ],
   "source": []
  },
  {
   "cell_type": "code",
   "execution_count": null,
   "metadata": {},
   "outputs": [],
   "source": []
  }
 ],
 "metadata": {
  "kernelspec": {
   "display_name": "base",
   "language": "python",
   "name": "python3"
  },
  "language_info": {
   "codemirror_mode": {
    "name": "ipython",
    "version": 3
   },
   "file_extension": ".py",
   "mimetype": "text/x-python",
   "name": "python",
   "nbconvert_exporter": "python",
   "pygments_lexer": "ipython3",
   "version": "3.10.9"
  },
  "orig_nbformat": 4
 },
 "nbformat": 4,
 "nbformat_minor": 2
}
