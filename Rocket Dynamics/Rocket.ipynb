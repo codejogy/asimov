{
 "cells": [
  {
   "cell_type": "code",
   "execution_count": 2,
   "metadata": {},
   "outputs": [],
   "source": [
    "import ConstantesSI"
   ]
  },
  {
   "cell_type": "markdown",
   "metadata": {},
   "source": [
    "# Funciones"
   ]
  },
  {
   "cell_type": "code",
   "execution_count": 4,
   "metadata": {},
   "outputs": [],
   "source": [
    "def propelenteMasaThumb(masaCoheteVacio:int) -> float:\n",
    "    \"\"\"La regla del dedo dice que el 80% de la masa es propelente \"\"\"\n",
    "    masaTotal = masaCoheteVacio*5 # es equivalente a /0.2 que sería el porcentaje, masaTotal es el 100%\n",
    "    masaPropelente = masaTotal*0.8 # El 80% del cohete total\n",
    "    \n",
    "    return masaPropelente"
   ]
  },
  {
   "cell_type": "markdown",
   "metadata": {},
   "source": [
    "# Cálculos"
   ]
  },
  {
   "cell_type": "code",
   "execution_count": 9,
   "metadata": {},
   "outputs": [
    {
     "name": "stdout",
     "output_type": "stream",
     "text": [
      "Mediante la regla de dedo\n",
      "La masa del propelente es : 12.0 kg\n"
     ]
    }
   ],
   "source": [
    "masaPropelente = propelenteMasaThumb(masaCoheteVacio=ConstantesSI.dryMass)\n",
    "print(f\"Mediante la regla de dedo\\nLa masa del propelente es : {masaPropelente} kg\")"
   ]
  },
  {
   "cell_type": "code",
   "execution_count": null,
   "metadata": {},
   "outputs": [],
   "source": []
  }
 ],
 "metadata": {
  "kernelspec": {
   "display_name": "base",
   "language": "python",
   "name": "python3"
  },
  "language_info": {
   "codemirror_mode": {
    "name": "ipython",
    "version": 3
   },
   "file_extension": ".py",
   "mimetype": "text/x-python",
   "name": "python",
   "nbconvert_exporter": "python",
   "pygments_lexer": "ipython3",
   "version": "3.10.9"
  },
  "orig_nbformat": 4
 },
 "nbformat": 4,
 "nbformat_minor": 2
}
